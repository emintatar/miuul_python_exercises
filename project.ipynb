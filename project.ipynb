{
  "nbformat": 4,
  "nbformat_minor": 0,
  "metadata": {
    "colab": {
      "provenance": []
    },
    "kernelspec": {
      "name": "python3",
      "display_name": "Python 3"
    },
    "language_info": {
      "name": "python"
    }
  },
  "cells": [
    {
      "cell_type": "code",
      "source": [
        "###############################################\n",
        "# Python Alıştırmalar\n",
        "###############################################"
      ],
      "metadata": {
        "id": "b_2KKbG6SLXv"
      },
      "execution_count": 105,
      "outputs": []
    },
    {
      "cell_type": "code",
      "source": [
        "###############################################\n",
        "# GÖREV 1: Veri yapılarının tipleriniz inceleyiniz.\n",
        "###############################################"
      ],
      "metadata": {
        "id": "ijQTuQxuSPuV"
      },
      "execution_count": 106,
      "outputs": []
    },
    {
      "cell_type": "code",
      "source": [
        "x = 8\n",
        "type(x)"
      ],
      "metadata": {
        "colab": {
          "base_uri": "https://localhost:8080/"
        },
        "id": "wFbvMpPwSSOJ",
        "outputId": "5d0e94d0-1ca8-471d-faeb-c61a6f971f94"
      },
      "execution_count": 107,
      "outputs": [
        {
          "output_type": "execute_result",
          "data": {
            "text/plain": [
              "int"
            ]
          },
          "metadata": {},
          "execution_count": 107
        }
      ]
    },
    {
      "cell_type": "code",
      "source": [
        "y = 3.2\n",
        "type(y)"
      ],
      "metadata": {
        "colab": {
          "base_uri": "https://localhost:8080/"
        },
        "id": "ZFY6DAq2SkfQ",
        "outputId": "bd3757df-a49b-40a5-c0b6-ef5e08ab2c02"
      },
      "execution_count": 108,
      "outputs": [
        {
          "output_type": "execute_result",
          "data": {
            "text/plain": [
              "float"
            ]
          },
          "metadata": {},
          "execution_count": 108
        }
      ]
    },
    {
      "cell_type": "code",
      "source": [
        "z = 8j + 18\n",
        "type(z)"
      ],
      "metadata": {
        "colab": {
          "base_uri": "https://localhost:8080/"
        },
        "id": "5sIrXbv5Slko",
        "outputId": "1442b4ea-39fd-4c7e-a4e6-2f7f01d8077e"
      },
      "execution_count": 109,
      "outputs": [
        {
          "output_type": "execute_result",
          "data": {
            "text/plain": [
              "complex"
            ]
          },
          "metadata": {},
          "execution_count": 109
        }
      ]
    },
    {
      "cell_type": "code",
      "source": [
        "a = \"Hello World\"\n",
        "type(a)"
      ],
      "metadata": {
        "colab": {
          "base_uri": "https://localhost:8080/"
        },
        "id": "egvVClzsSnhR",
        "outputId": "3d68e1a3-578a-4543-c2d4-814f3788faea"
      },
      "execution_count": 110,
      "outputs": [
        {
          "output_type": "execute_result",
          "data": {
            "text/plain": [
              "str"
            ]
          },
          "metadata": {},
          "execution_count": 110
        }
      ]
    },
    {
      "cell_type": "code",
      "source": [
        "b = True\n",
        "type(b)"
      ],
      "metadata": {
        "colab": {
          "base_uri": "https://localhost:8080/"
        },
        "id": "Ou5HzoJUSowm",
        "outputId": "b8390abb-189e-4021-c321-3ba3dca69d6c"
      },
      "execution_count": 111,
      "outputs": [
        {
          "output_type": "execute_result",
          "data": {
            "text/plain": [
              "bool"
            ]
          },
          "metadata": {},
          "execution_count": 111
        }
      ]
    },
    {
      "cell_type": "code",
      "source": [
        "c = 23 < 22\n",
        "type(c)"
      ],
      "metadata": {
        "colab": {
          "base_uri": "https://localhost:8080/"
        },
        "id": "RMT8mD82SqUf",
        "outputId": "6ed42391-1d16-4d60-8785-487f3951a1e6"
      },
      "execution_count": 112,
      "outputs": [
        {
          "output_type": "execute_result",
          "data": {
            "text/plain": [
              "bool"
            ]
          },
          "metadata": {},
          "execution_count": 112
        }
      ]
    },
    {
      "cell_type": "code",
      "source": [
        "# Sıralıdır\n",
        "# Kapsayıcıdır\n",
        "# Değiştirilebilir\n",
        "\n",
        "l = [1, 2, 3, 4,\"String\",3.2, False]\n",
        "type(l)"
      ],
      "metadata": {
        "colab": {
          "base_uri": "https://localhost:8080/"
        },
        "id": "5y_5Sa-PSrKM",
        "outputId": "e1d248ed-1205-4b85-90a8-811a107083cf"
      },
      "execution_count": 113,
      "outputs": [
        {
          "output_type": "execute_result",
          "data": {
            "text/plain": [
              "list"
            ]
          },
          "metadata": {},
          "execution_count": 113
        }
      ]
    },
    {
      "cell_type": "code",
      "source": [
        "# Değiştirilebilir\n",
        "# Kapsayıcı\n",
        "# Sırasız\n",
        "# Key değerleri farklı olacak\n",
        "\n",
        "d = {\"Name\": \"Jake\",\n",
        "     \"Age\": [27,56],\n",
        "     \"Adress\": \"Downtown\"}\n",
        "type(d)"
      ],
      "metadata": {
        "colab": {
          "base_uri": "https://localhost:8080/"
        },
        "id": "FjKrhomtS-t6",
        "outputId": "e7b12cf6-590b-4e23-ddc9-4efdfdd6d857"
      },
      "execution_count": 114,
      "outputs": [
        {
          "output_type": "execute_result",
          "data": {
            "text/plain": [
              "dict"
            ]
          },
          "metadata": {},
          "execution_count": 114
        }
      ]
    },
    {
      "cell_type": "code",
      "source": [
        "# Değiştirilemez\n",
        "# Kapsayıcı\n",
        "# Sıralı\n",
        "\n",
        "t = (\"Machine Learning\", \"Data Science\")\n",
        "type(t)"
      ],
      "metadata": {
        "colab": {
          "base_uri": "https://localhost:8080/"
        },
        "id": "-Iiw4VtiTQ5u",
        "outputId": "69fb24e6-c822-4f7c-ed13-7ab76c83366a"
      },
      "execution_count": 115,
      "outputs": [
        {
          "output_type": "execute_result",
          "data": {
            "text/plain": [
              "tuple"
            ]
          },
          "metadata": {},
          "execution_count": 115
        }
      ]
    },
    {
      "cell_type": "code",
      "source": [
        "# Değiştirilebilir\n",
        "# Sırasız + Eşsiz\n",
        "# Kapsayıcı\n",
        "\n",
        "s = {\"Python\", \"Machine Learning\", \"Data Science\",\"Python\"}\n",
        "type(s)"
      ],
      "metadata": {
        "colab": {
          "base_uri": "https://localhost:8080/"
        },
        "id": "gKMaB5jpTd4p",
        "outputId": "4fbe639a-4e42-41d3-c086-1555917ce890"
      },
      "execution_count": 116,
      "outputs": [
        {
          "output_type": "execute_result",
          "data": {
            "text/plain": [
              "set"
            ]
          },
          "metadata": {},
          "execution_count": 116
        }
      ]
    },
    {
      "cell_type": "code",
      "source": [
        "###############################################\n",
        "# GÖREV 2: Verilen string ifadenin tüm harflerini büyük harfe çeviriniz. Virgül ve nokta yerine space koyunuz, kelime kelime ayırınız.\n",
        "###############################################"
      ],
      "metadata": {
        "id": "UNfWw-EvTp29"
      },
      "execution_count": 117,
      "outputs": []
    },
    {
      "cell_type": "code",
      "source": [
        "text = \"The goal is to turn data into information, and information into insight.\""
      ],
      "metadata": {
        "id": "Yok70vOWT4KD"
      },
      "execution_count": 118,
      "outputs": []
    },
    {
      "cell_type": "code",
      "source": [
        "text.upper().replace(\",\", \" \").replace(\".\", \" \").split()"
      ],
      "metadata": {
        "colab": {
          "base_uri": "https://localhost:8080/"
        },
        "id": "PT2YAZVkT8j5",
        "outputId": "7d195c0f-2a0a-4cf8-efee-50dcf0a2f23a"
      },
      "execution_count": 119,
      "outputs": [
        {
          "output_type": "execute_result",
          "data": {
            "text/plain": [
              "['THE',\n",
              " 'GOAL',\n",
              " 'IS',\n",
              " 'TO',\n",
              " 'TURN',\n",
              " 'DATA',\n",
              " 'INTO',\n",
              " 'INFORMATION',\n",
              " 'AND',\n",
              " 'INFORMATION',\n",
              " 'INTO',\n",
              " 'INSIGHT']"
            ]
          },
          "metadata": {},
          "execution_count": 119
        }
      ]
    },
    {
      "cell_type": "code",
      "source": [
        "###############################################\n",
        "# GÖREV 3: Verilen liste için aşağıdaki görevleri yapınız.\n",
        "###############################################"
      ],
      "metadata": {
        "id": "OHGjyncRT_aZ"
      },
      "execution_count": 120,
      "outputs": []
    },
    {
      "cell_type": "code",
      "source": [
        "lst = [\"D\",\"A\",\"T\",\"A\",\"S\",\"C\",\"I\",\"E\",\"N\",\"C\",\"E\"]"
      ],
      "metadata": {
        "id": "GUMkz8ZjUjI8"
      },
      "execution_count": 121,
      "outputs": []
    },
    {
      "cell_type": "code",
      "source": [
        "# Adım 1: Verilen listenin eleman sayısına bakın.\n",
        "len(lst)"
      ],
      "metadata": {
        "colab": {
          "base_uri": "https://localhost:8080/"
        },
        "id": "abY2ssfVUjj0",
        "outputId": "06ec9dfc-3b88-44b5-d97c-5a7dd3b9928f"
      },
      "execution_count": 122,
      "outputs": [
        {
          "output_type": "execute_result",
          "data": {
            "text/plain": [
              "11"
            ]
          },
          "metadata": {},
          "execution_count": 122
        }
      ]
    },
    {
      "cell_type": "code",
      "source": [
        "# Adım 2: Sıfırıncı ve onuncu index'teki elemanları çağırın.\n",
        "lst[0]\n",
        "lst[10]"
      ],
      "metadata": {
        "colab": {
          "base_uri": "https://localhost:8080/",
          "height": 35
        },
        "id": "ern01_k6UrrS",
        "outputId": "388e704f-cd8d-4eea-bf09-2a0e002f14f0"
      },
      "execution_count": 123,
      "outputs": [
        {
          "output_type": "execute_result",
          "data": {
            "text/plain": [
              "'E'"
            ],
            "application/vnd.google.colaboratory.intrinsic+json": {
              "type": "string"
            }
          },
          "metadata": {},
          "execution_count": 123
        }
      ]
    },
    {
      "cell_type": "code",
      "source": [
        "# Adım 3: Verilen liste üzerinden [\"D\",\"A\",\"T\",\"A\"] listesi oluşturun.\n",
        "data_list = lst[0:4]\n",
        "data_list"
      ],
      "metadata": {
        "colab": {
          "base_uri": "https://localhost:8080/"
        },
        "id": "F9q1EOcVUuq3",
        "outputId": "91af193e-11ef-409c-885a-3cdd4e9fcae6"
      },
      "execution_count": 124,
      "outputs": [
        {
          "output_type": "execute_result",
          "data": {
            "text/plain": [
              "['D', 'A', 'T', 'A']"
            ]
          },
          "metadata": {},
          "execution_count": 124
        }
      ]
    },
    {
      "cell_type": "code",
      "source": [
        "# Adım 4: Sekizinci index'teki elemanı silin.\n",
        "lst.pop(8)\n",
        "lst"
      ],
      "metadata": {
        "colab": {
          "base_uri": "https://localhost:8080/"
        },
        "id": "cllvunHtVL-C",
        "outputId": "efdd174f-605a-4ff5-891d-e75b42e82b48"
      },
      "execution_count": 125,
      "outputs": [
        {
          "output_type": "execute_result",
          "data": {
            "text/plain": [
              "['D', 'A', 'T', 'A', 'S', 'C', 'I', 'E', 'C', 'E']"
            ]
          },
          "metadata": {},
          "execution_count": 125
        }
      ]
    },
    {
      "cell_type": "code",
      "source": [
        "# Adım 5: Yeni bir eleman ekleyin.\n",
        "lst.append(100)\n",
        "lst"
      ],
      "metadata": {
        "colab": {
          "base_uri": "https://localhost:8080/"
        },
        "id": "lR048m8uVUla",
        "outputId": "0c92c79d-fc22-4b75-f9c7-0e49e2ccf8f3"
      },
      "execution_count": 126,
      "outputs": [
        {
          "output_type": "execute_result",
          "data": {
            "text/plain": [
              "['D', 'A', 'T', 'A', 'S', 'C', 'I', 'E', 'C', 'E', 100]"
            ]
          },
          "metadata": {},
          "execution_count": 126
        }
      ]
    },
    {
      "cell_type": "code",
      "source": [
        "# Adım 6: Sekizinci index'e  \"N\" elemanını tekrar ekleyin.\n",
        "lst.insert(8, \"N\")\n",
        "lst"
      ],
      "metadata": {
        "colab": {
          "base_uri": "https://localhost:8080/"
        },
        "id": "MiILowMjVdop",
        "outputId": "35fec8cb-b15d-4745-cea0-f934bba7014a"
      },
      "execution_count": 127,
      "outputs": [
        {
          "output_type": "execute_result",
          "data": {
            "text/plain": [
              "['D', 'A', 'T', 'A', 'S', 'C', 'I', 'E', 'N', 'C', 'E', 100]"
            ]
          },
          "metadata": {},
          "execution_count": 127
        }
      ]
    },
    {
      "cell_type": "code",
      "source": [
        "###############################################\n",
        "# GÖREV 4: Verilen sözlük yapısına aşağıdaki adımları uygulayınız.\n",
        "###############################################"
      ],
      "metadata": {
        "id": "2vHQMfkIVsDH"
      },
      "execution_count": 128,
      "outputs": []
    },
    {
      "cell_type": "code",
      "source": [
        "dict = {'Christian': [\"America\",18],\n",
        "        'Daisy':[\"England\",12],\n",
        "        'Antonio':[\"Spain\",22],\n",
        "        'Dante':[\"Italy\",25]}"
      ],
      "metadata": {
        "id": "1WDj8Rd3V41J"
      },
      "execution_count": 129,
      "outputs": []
    },
    {
      "cell_type": "code",
      "source": [
        "# Adım 1: Key değerlerine erişiniz.\n",
        "dict.keys()"
      ],
      "metadata": {
        "colab": {
          "base_uri": "https://localhost:8080/"
        },
        "id": "XAr2SxsaV8Nq",
        "outputId": "8a661519-b336-4d18-b9cd-2f13b81a9530"
      },
      "execution_count": 130,
      "outputs": [
        {
          "output_type": "execute_result",
          "data": {
            "text/plain": [
              "dict_keys(['Christian', 'Daisy', 'Antonio', 'Dante'])"
            ]
          },
          "metadata": {},
          "execution_count": 130
        }
      ]
    },
    {
      "cell_type": "code",
      "source": [
        "# Adım 2: Value'lara erişiniz.\n",
        "dict.values()"
      ],
      "metadata": {
        "colab": {
          "base_uri": "https://localhost:8080/"
        },
        "id": "48TRPaHfWA6M",
        "outputId": "d71c2ded-9d32-4432-b9a9-c7933233710e"
      },
      "execution_count": 131,
      "outputs": [
        {
          "output_type": "execute_result",
          "data": {
            "text/plain": [
              "dict_values([['America', 18], ['England', 12], ['Spain', 22], ['Italy', 25]])"
            ]
          },
          "metadata": {},
          "execution_count": 131
        }
      ]
    },
    {
      "cell_type": "code",
      "source": [
        "# Adım 3: Daisy key'ine ait 12 değerini 13 olarak güncelleyiniz. (Yöntem 1)\n",
        "dict.update({\"Daisy\": [\"England\",13]})\n",
        "dict"
      ],
      "metadata": {
        "colab": {
          "base_uri": "https://localhost:8080/"
        },
        "id": "knS4EUVFWC2z",
        "outputId": "172e3b3f-8b19-44e8-e4c0-042232af20b5"
      },
      "execution_count": 132,
      "outputs": [
        {
          "output_type": "execute_result",
          "data": {
            "text/plain": [
              "{'Christian': ['America', 18],\n",
              " 'Daisy': ['England', 13],\n",
              " 'Antonio': ['Spain', 22],\n",
              " 'Dante': ['Italy', 25]}"
            ]
          },
          "metadata": {},
          "execution_count": 132
        }
      ]
    },
    {
      "cell_type": "code",
      "source": [
        "# Adım 3: Daisy key'ine ait 12 değerini 13 olarak güncelleyiniz. (Yöntem 2)\n",
        "dict['Daisy'][1] = 13\n",
        "dict"
      ],
      "metadata": {
        "colab": {
          "base_uri": "https://localhost:8080/"
        },
        "id": "B_7RCGg1WMq9",
        "outputId": "33aa8879-4905-4ee3-b5bb-adb42458242f"
      },
      "execution_count": 133,
      "outputs": [
        {
          "output_type": "execute_result",
          "data": {
            "text/plain": [
              "{'Christian': ['America', 18],\n",
              " 'Daisy': ['England', 13],\n",
              " 'Antonio': ['Spain', 22],\n",
              " 'Dante': ['Italy', 25]}"
            ]
          },
          "metadata": {},
          "execution_count": 133
        }
      ]
    },
    {
      "cell_type": "code",
      "source": [
        "# Adım 4: Key değeri Ahmet value değeri [Turkey,24] olan yeni bir değer ekleyiniz.\n",
        "dict.update({\"Ahmet\": [\"Turkey\", 24]})\n",
        "dict"
      ],
      "metadata": {
        "colab": {
          "base_uri": "https://localhost:8080/"
        },
        "id": "Xth7xrBJWnZQ",
        "outputId": "afc011e6-a8ee-43c3-a7d0-d5afa6f661ae"
      },
      "execution_count": 134,
      "outputs": [
        {
          "output_type": "execute_result",
          "data": {
            "text/plain": [
              "{'Christian': ['America', 18],\n",
              " 'Daisy': ['England', 13],\n",
              " 'Antonio': ['Spain', 22],\n",
              " 'Dante': ['Italy', 25],\n",
              " 'Ahmet': ['Turkey', 24]}"
            ]
          },
          "metadata": {},
          "execution_count": 134
        }
      ]
    },
    {
      "cell_type": "code",
      "source": [
        "# Adım 5: Antonio'yu dictionary'den siliniz.\n",
        "dict.pop(\"Antonio\")\n",
        "dict"
      ],
      "metadata": {
        "colab": {
          "base_uri": "https://localhost:8080/"
        },
        "id": "tjKZCkbSXftM",
        "outputId": "ee086fb7-cc0a-4112-f027-d43a66f3919d"
      },
      "execution_count": 135,
      "outputs": [
        {
          "output_type": "execute_result",
          "data": {
            "text/plain": [
              "{'Christian': ['America', 18],\n",
              " 'Daisy': ['England', 13],\n",
              " 'Dante': ['Italy', 25],\n",
              " 'Ahmet': ['Turkey', 24]}"
            ]
          },
          "metadata": {},
          "execution_count": 135
        }
      ]
    },
    {
      "cell_type": "code",
      "source": [
        "###############################################\n",
        "# GÖREV 5: Arguman olarak bir liste alan, listenin içerisindeki tek ve çift sayıları ayrı listelere atıyan ve bu listeleri return eden fonskiyon yazınız.\n",
        "###############################################"
      ],
      "metadata": {
        "id": "BHaKyvqTYJ7p"
      },
      "execution_count": 136,
      "outputs": []
    },
    {
      "cell_type": "code",
      "source": [
        "def func(lst):\n",
        "  odd_list = []\n",
        "  even_list = []\n",
        "  for num in lst:\n",
        "    if num % 2 == 0:\n",
        "      even_list.append(num)\n",
        "    else:\n",
        "      odd_list.append(num)\n",
        "  return odd_list, even_list\n",
        "\n",
        "l = [2,13,18,93,22]\n",
        "\n",
        "func(l)"
      ],
      "metadata": {
        "colab": {
          "base_uri": "https://localhost:8080/"
        },
        "id": "9recwNl_YViH",
        "outputId": "432e9a31-0813-4d9e-ee80-6ae6972a89f1"
      },
      "execution_count": 137,
      "outputs": [
        {
          "output_type": "execute_result",
          "data": {
            "text/plain": [
              "([13, 93], [2, 18, 22])"
            ]
          },
          "metadata": {},
          "execution_count": 137
        }
      ]
    },
    {
      "cell_type": "code",
      "source": [
        "###############################################\n",
        "# GÖREV 6: Aşağıda verilen listede mühendislik ve tıp fakülterinde dereceye giren öğrencilerin isimleri bulunmaktadır.\n",
        "# Sırasıyla ilk üç öğrenci mühendislik fakültesinin başarı sırasını temsil ederken son üç öğrenci de tıp fakültesi öğrenci sırasına aittir.\n",
        "# Enumarate kullanarak öğrenci derecelerini fakülte özelinde yazdırınız.\n",
        "###############################################"
      ],
      "metadata": {
        "id": "wQX0Y_uLZFmU"
      },
      "execution_count": 138,
      "outputs": []
    },
    {
      "cell_type": "code",
      "source": [
        "ogrenciler = [\"Ali\",\"Veli\",\"Ayşe\",\"Talat\",\"Zeynep\",\"Ece\"]\n",
        "for index, ogrenci in enumerate(ogrenciler):\n",
        "  if index < 3:\n",
        "    print(\"Fakültesi: Mühendislik\", \"Index: \" , index, \"İsim: \", ogrenci)\n",
        "  else:\n",
        "    print(\"Fakültesi: Tıp\", \"Index: \" , index, \"İsim: \", ogrenci)"
      ],
      "metadata": {
        "colab": {
          "base_uri": "https://localhost:8080/"
        },
        "id": "BPaoPLJUZmnr",
        "outputId": "7db581ed-429e-4958-d040-257b2549c5f4"
      },
      "execution_count": 139,
      "outputs": [
        {
          "output_type": "stream",
          "name": "stdout",
          "text": [
            "Fakültesi: Mühendislik Index:  0 İsim:  Ali\n",
            "Fakültesi: Mühendislik Index:  1 İsim:  Veli\n",
            "Fakültesi: Mühendislik Index:  2 İsim:  Ayşe\n",
            "Fakültesi: Tıp Index:  3 İsim:  Talat\n",
            "Fakültesi: Tıp Index:  4 İsim:  Zeynep\n",
            "Fakültesi: Tıp Index:  5 İsim:  Ece\n"
          ]
        }
      ]
    },
    {
      "cell_type": "code",
      "source": [
        "###############################################\n",
        "# GÖREV 7: Aşağıda 3 adet liste verilmiştir. Listelerde sırası ile bir dersin kodu, kredisi ve kontenjan bilgileri yer almaktadır. Zip kullanarak ders bilgilerini bastırınız.\n",
        "###############################################"
      ],
      "metadata": {
        "id": "bHVFHWrQZs_n"
      },
      "execution_count": 140,
      "outputs": []
    },
    {
      "cell_type": "code",
      "source": [
        "ders_kodu = [\"CMP1005\",\"PSY1001\",\"HUK1005\",\"SEN2204\"]\n",
        "kredi = [3,4,2,4]\n",
        "kontenjan = [30,75,150,25]\n",
        "\n",
        "for ders_kodu, kredi, kontenjan in zip(ders_kodu, kredi, kontenjan):\n",
        "  print(f\"Kredisi {kredi} olan {ders_kodu} kodlu dersin kontenjanı {kontenjan} kişidir.\")"
      ],
      "metadata": {
        "colab": {
          "base_uri": "https://localhost:8080/"
        },
        "id": "isUVRYzbc4X9",
        "outputId": "978cdabb-b8fd-4506-d7a8-9ed169d5b903"
      },
      "execution_count": 141,
      "outputs": [
        {
          "output_type": "stream",
          "name": "stdout",
          "text": [
            "Kredisi 3 olan CMP1005 kodlu dersin kontenjanı 30 kişidir.\n",
            "Kredisi 4 olan PSY1001 kodlu dersin kontenjanı 75 kişidir.\n",
            "Kredisi 2 olan HUK1005 kodlu dersin kontenjanı 150 kişidir.\n",
            "Kredisi 4 olan SEN2204 kodlu dersin kontenjanı 25 kişidir.\n"
          ]
        }
      ]
    },
    {
      "cell_type": "code",
      "source": [
        "###############################################\n",
        "# GÖREV 8: Aşağıda 2 adet set verilmiştir.\n",
        "# Sizden istenilen eğer 1. küme 2. kümeyi kapsiyor ise ortak elemanlarını eğer kapsamıyor ise 2. kümenin 1. kümeden farkını yazdıracak fonksiyonu tanımlamanız beklenmektedir.\n",
        "###############################################"
      ],
      "metadata": {
        "id": "8JeUpVWAc4xM"
      },
      "execution_count": 142,
      "outputs": []
    },
    {
      "cell_type": "code",
      "source": [
        "kume1 = set([\"data\", \"python\"])\n",
        "kume2 = set([\"data\", \"function\", \"qcut\", \"lambda\", \"python\", \"miuul\"])"
      ],
      "metadata": {
        "id": "JT4r0PPBdn8X"
      },
      "execution_count": 143,
      "outputs": []
    },
    {
      "cell_type": "code",
      "source": [
        "def set_func(set1, set2):\n",
        "    if set1.issuperset(set2):\n",
        "        print(set1.intersection(set2))\n",
        "    else:\n",
        "        print(set2.difference(set1))\n",
        "\n",
        "set_func(kume1, kume2)\n",
        "set_func(kume2, kume1)"
      ],
      "metadata": {
        "colab": {
          "base_uri": "https://localhost:8080/"
        },
        "id": "2uIllKH2dpjD",
        "outputId": "d7fd99cf-7c68-49e0-d193-890386eac6cb"
      },
      "execution_count": 144,
      "outputs": [
        {
          "output_type": "stream",
          "name": "stdout",
          "text": [
            "{'function', 'lambda', 'qcut', 'miuul'}\n",
            "{'python', 'data'}\n"
          ]
        }
      ]
    }
  ]
}